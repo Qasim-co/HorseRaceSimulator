{
 "cells": [
  {
   "cell_type": "code",
   "execution_count": 4,
   "id": "bb1ce104-8026-4471-9480-496795ebe31f",
   "metadata": {},
   "outputs": [],
   "source": [
    "import java.util.ArrayList;\n",
    "import java.util.List;\n",
    "\n",
    "public class Horse {\n",
    "    private String name;\n",
    "    private char symbol;\n",
    "    private char originalSymbol;  // Store the original symbol\n",
    "    private double confidence;\n",
    "    private String breed;\n",
    "    private String color;\n",
    "    private String saddle;\n",
    "    private String horseshoes;\n",
    "    private String accessory;\n",
    "    private int position;\n",
    "    private int racesParticipated;\n",
    "    private int racesWon;\n",
    "    private List<Double> raceTimes;\n",
    "    private boolean fallen;      // Track if the horse has fallen\n",
    "    private double fallRisk;     // Probability of falling during a move\n",
    "\n",
    "    public Horse(String name, char symbol, double confidence, String breed, String color, String saddle, String horseshoes, String accessory) {\n",
    "        this.name = name;\n",
    "        this.symbol = symbol;\n",
    "        this.originalSymbol = symbol;  // Save the original symbol\n",
    "        this.confidence = confidence;\n",
    "        this.breed = breed;\n",
    "        this.color = color;\n",
    "        this.saddle = saddle;\n",
    "        this.horseshoes = horseshoes;\n",
    "        this.accessory = accessory;\n",
    "        this.position = 0;\n",
    "        this.racesParticipated = 0;\n",
    "        this.racesWon = 0;\n",
    "        this.raceTimes = new ArrayList<>();\n",
    "        this.fallen = false;\n",
    "        \n",
    "        // Set a random fall risk between 0.01 (1%) and 0.05 (5%)\n",
    "        // Low-quality horseshoes increase fall risk\n",
    "        this.fallRisk = 0.01 + Math.random() * 0.04;\n",
    "        if (horseshoes.toLowerCase().contains(\"cheap\") || horseshoes.toLowerCase().contains(\"old\")) {\n",
    "            this.fallRisk += 0.03;  // Increase fall risk for cheap or old horseshoes\n",
    "        }\n",
    "    }\n",
    "\n",
    "    public void move() {\n",
    "        // If the horse has fallen, it can't move anymore\n",
    "        if (fallen) {\n",
    "            return;\n",
    "        }\n",
    "        \n",
    "        // Check if the horse falls during this move\n",
    "        if (Math.random() < fallRisk) {\n",
    "            fall();\n",
    "            return;\n",
    "        }\n",
    "        \n",
    "        // Normal movement logic\n",
    "        double moveChance = Math.random();\n",
    "        if (moveChance < confidence) {\n",
    "            position += 1;\n",
    "        }\n",
    "    }\n",
    "    \n",
    "    // Method to make the horse fall\n",
    "    public void fall() {\n",
    "        fallen = true;\n",
    "        symbol = '❌';  // Change symbol to a red X emoji\n",
    "        System.out.println(\"\\n💥 \" + name + \" has fallen!\");\n",
    "    }\n",
    "    \n",
    "    public boolean hasFallen() {\n",
    "        return fallen;\n",
    "    }\n",
    "    \n",
    "    public void resetPosition() {\n",
    "        position = 0;\n",
    "        fallen = false;\n",
    "        symbol = originalSymbol;  // Reset to original symbol\n",
    "    }\n",
    "\n",
    "    public void recordRace(double timeTaken, boolean won) {\n",
    "        racesParticipated++;\n",
    "        if (won) racesWon++;\n",
    "        raceTimes.add(timeTaken);\n",
    "    }\n",
    "\n",
    "    public double getAverageSpeed(int trackLength) {\n",
    "        if (raceTimes.isEmpty()) return 0;\n",
    "        double totalSpeed = 0;\n",
    "        for (double time : raceTimes) {\n",
    "            totalSpeed += (trackLength / time);\n",
    "        }\n",
    "        return totalSpeed / raceTimes.size();\n",
    "    }\n",
    "\n",
    "    public double getWinRatio() {\n",
    "        if (racesParticipated == 0) return 0;\n",
    "        return (double) racesWon / racesParticipated * 100;\n",
    "    }\n",
    "\n",
    "    public List<Double> getRaceTimes() {\n",
    "        return raceTimes;\n",
    "    }\n",
    "\n",
    "    public int getPosition() {\n",
    "        return position;\n",
    "    }\n",
    "\n",
    "    public String getName() {\n",
    "        return name;\n",
    "    }\n",
    "\n",
    "    public char getSymbol() {\n",
    "        return symbol;\n",
    "    }\n",
    "    \n",
    "    // Add getter for confidence\n",
    "    public double getConfidence() {\n",
    "        return confidence;\n",
    "    }\n",
    "}"
   ]
  },
  {
   "cell_type": "code",
   "execution_count": 5,
   "id": "a3663fe1-437e-4d9d-b3f2-a702769013c8",
   "metadata": {},
   "outputs": [],
   "source": [
    "public class StatisticsManager {\n",
    "    public void displayHorseStatistics(Horse horse, int trackLength) {\n",
    "        System.out.println(\"\\n--- Horse Statistics for \" + horse.getName() + \" ---\");\n",
    "        System.out.println(\"Total Races: \" + horse.getRaceTimes().size());\n",
    "        System.out.println(\"Win Ratio: \" + String.format(\"%.2f\", horse.getWinRatio()) + \"%\");\n",
    "        System.out.println(\"Average Speed: \" + String.format(\"%.2f\", horse.getAverageSpeed(trackLength)) + \" units per second\");\n",
    "        System.out.println(\"Race Times: \" + horse.getRaceTimes());\n",
    "    }\n",
    "\n",
    "    public void compareHorses(Horse horse1, Horse horse2, int trackLength) {\n",
    "        System.out.println(\"\\n--- Horse Comparison ---\");\n",
    "        System.out.println(horse1.getName() + \" - Avg Speed: \" + String.format(\"%.2f\", horse1.getAverageSpeed(trackLength)) + \" Win Ratio: \" + String.format(\"%.2f\", horse1.getWinRatio()) + \"%\");\n",
    "        System.out.println(horse2.getName() + \" - Avg Speed: \" + String.format(\"%.2f\", horse2.getAverageSpeed(trackLength)) + \" Win Ratio: \" + String.format(\"%.2f\", horse2.getWinRatio()) + \"%\");\n",
    "    }\n",
    "}"
   ]
  },
  {
   "cell_type": "code",
   "execution_count": 6,
   "id": "a27f6566-47a4-4518-a1d3-091dfd593c97",
   "metadata": {},
   "outputs": [],
   "source": [
    "import java.util.HashMap;\n",
    "import java.util.Map;\n",
    "import java.util.Random;\n",
    "\n",
    "public class BettingSystem {\n",
    "    private double balance;\n",
    "    private Map<Horse, Double> odds;\n",
    "    private Map<Horse, Double> bets;\n",
    "\n",
    "    public BettingSystem() {\n",
    "        this.balance = 1000.0; // starting money\n",
    "        this.odds = new HashMap<>();\n",
    "        this.bets = new HashMap<>();\n",
    "    }\n",
    "\n",
    "    public void calculateOdds(Horse[] horses) {\n",
    "        Random rand = new Random();\n",
    "        odds.clear();\n",
    "        for (Horse horse : horses) {\n",
    "            if (horse != null) {\n",
    "                double base = 1.5 + rand.nextDouble() * 2.5; // Randomize odds slightly\n",
    "                odds.put(horse, base);\n",
    "            }\n",
    "        }\n",
    "    }\n",
    "\n",
    "    public void displayOdds() {\n",
    "        System.out.println(\"\\n--- Betting Odds ---\");\n",
    "        for (Horse horse : odds.keySet()) {\n",
    "            System.out.println(horse.getName() + \" (\" + horse.getSymbol() + \"): \" + String.format(\"%.2f\", odds.get(horse)) + \"x\");\n",
    "        }\n",
    "    }\n",
    "\n",
    "    public void placeBet(Horse horse, double amount) {\n",
    "        if (amount > balance) {\n",
    "            System.out.println(\"Not enough balance to place bet!\");\n",
    "            return;\n",
    "        }\n",
    "        balance -= amount;\n",
    "        bets.put(horse, amount);\n",
    "    }\n",
    "\n",
    "    public void processRaceResult(Horse winner) {\n",
    "        if (bets.containsKey(winner)) {\n",
    "            double winnings = bets.get(winner) * odds.get(winner);\n",
    "            System.out.println(\"You won! You earned: $\" + String.format(\"%.2f\", winnings));\n",
    "            balance += winnings;\n",
    "        } else {\n",
    "            System.out.println(\"You lost your bet.\");\n",
    "        }\n",
    "        bets.clear();\n",
    "    }\n",
    "    \n",
    "    // Method to handle the case where no horse finishes the race\n",
    "    public void processNoWinner() {\n",
    "        System.out.println(\"Since no horse finished the race, all bets are lost.\");\n",
    "        bets.clear();\n",
    "    }\n",
    "\n",
    "    public void displayBalance() {\n",
    "        System.out.println(\"Current Balance: $\" + String.format(\"%.2f\", balance));\n",
    "    }\n",
    "}"
   ]
  },
  {
   "cell_type": "code",
   "execution_count": 7,
   "id": "9e1fd8f1-4f5b-4508-8e56-2bf68a7fb4e5",
   "metadata": {},
   "outputs": [],
   "source": [
    "public class Race {\n",
    "    private Horse[] horses;\n",
    "    private int trackLength;\n",
    "    private int numLanes;\n",
    "    private StatisticsManager statsManager;\n",
    "    private BettingSystem bettingSystem;\n",
    "\n",
    "    public Race(int trackLength, int numLanes) {\n",
    "        this.trackLength = trackLength;\n",
    "        this.numLanes = numLanes;\n",
    "        horses = new Horse[numLanes];\n",
    "        statsManager = new StatisticsManager();\n",
    "        bettingSystem = new BettingSystem();\n",
    "    }\n",
    "\n",
    "    public void addHorse(Horse horse, int lane) {\n",
    "        if (lane >= 0 && lane < horses.length) {\n",
    "            horses[lane] = horse;\n",
    "        }\n",
    "    }\n",
    "\n",
    "    public int getNumLanes() {\n",
    "        return numLanes;\n",
    "    }\n",
    "\n",
    "    public int getNumHorses() {\n",
    "        int count = 0;\n",
    "        for (Horse horse : horses) {\n",
    "            if (horse != null) count++;\n",
    "        }\n",
    "        return count;\n",
    "    }\n",
    "\n",
    "    public Horse[] getHorses() {\n",
    "        return horses;\n",
    "    }\n",
    "\n",
    "    public BettingSystem getBettingSystem() {\n",
    "        return bettingSystem;\n",
    "    }\n",
    "\n",
    "    public void runRace() {\n",
    "        boolean raceFinished = false;\n",
    "        long startTime = System.currentTimeMillis();\n",
    "        System.out.println(\"\\n🏁 The race begins!\");\n",
    "        \n",
    "        while (!raceFinished) {\n",
    "            for (Horse horse : horses) {\n",
    "                if (horse != null) {\n",
    "                    horse.move();\n",
    "                    if (horse.getPosition() >= trackLength) {\n",
    "                        raceFinished = true;\n",
    "                    }\n",
    "                }\n",
    "            }\n",
    "            \n",
    "            printTrack();\n",
    "            \n",
    "            // Check if all horses have fallen or if at least one finished\n",
    "            if (allHorsesFallenOrFinished()) {\n",
    "                raceFinished = true;\n",
    "            }\n",
    "            \n",
    "            try {\n",
    "                Thread.sleep(500);\n",
    "            } catch (InterruptedException e) {\n",
    "                e.printStackTrace();\n",
    "            }\n",
    "        }\n",
    "        \n",
    "        long endTime = System.currentTimeMillis();\n",
    "        double timeTaken = (endTime - startTime) / 1000.0; // seconds\n",
    "        \n",
    "        Horse winner = null;\n",
    "        for (Horse horse : horses) {\n",
    "            if (horse != null && horse.getPosition() >= trackLength) {\n",
    "                winner = horse;\n",
    "                System.out.println(\"\\n🏆 \" + horse.getName() + \" wins the race!\");\n",
    "                break;\n",
    "            }\n",
    "        }\n",
    "        \n",
    "        // If no horse finished (all fell), announce that the race has no winner\n",
    "        if (winner == null) {\n",
    "            System.out.println(\"\\n😱 No horse finished the race! All horses have fallen!\");\n",
    "        }\n",
    "        \n",
    "        for (Horse horse : horses) {\n",
    "            if (horse != null) {\n",
    "                horse.recordRace(timeTaken, horse == winner);\n",
    "                horse.resetPosition();\n",
    "            }\n",
    "        }\n",
    "        \n",
    "        if (winner != null) {\n",
    "            bettingSystem.processRaceResult(winner);\n",
    "        } else {\n",
    "            System.out.println(\"All bets are lost as no horse finished the race.\");\n",
    "            bettingSystem.processNoWinner();\n",
    "        }\n",
    "    }\n",
    "    \n",
    "    // Check if all horses have either fallen or finished the race\n",
    "    private boolean allHorsesFallenOrFinished() {\n",
    "        for (Horse horse : horses) {\n",
    "            if (horse != null && !horse.hasFallen() && horse.getPosition() < trackLength) {\n",
    "                // If there's at least one horse still running, the race continues\n",
    "                return false;\n",
    "            }\n",
    "        }\n",
    "        return true;\n",
    "    }\n",
    "\n",
    "    private void printTrack() {\n",
    "        System.out.println();\n",
    "        \n",
    "        // Print top border\n",
    "        printHorizontalBorder();\n",
    "        \n",
    "        // Print each horse's track\n",
    "        for (Horse horse : horses) {\n",
    "            if (horse != null) {\n",
    "                System.out.print(\"| \");\n",
    "                \n",
    "                // Print the horse at its current position\n",
    "                for (int i = 0; i < trackLength; i++) {\n",
    "                    if (i == horse.getPosition()) {\n",
    "                        System.out.print(horse.getSymbol());\n",
    "                    } else {\n",
    "                        System.out.print(\" \");\n",
    "                    }\n",
    "                }\n",
    "                \n",
    "                // Print status information\n",
    "                String status = horse.hasFallen() ? \" (Fallen)\" : \" (Current confidence \" + String.format(\"%.1f\", horse.getConfidence()) + \")\";\n",
    "                System.out.println(\" | \" + horse.getName() + status);\n",
    "            }\n",
    "        }\n",
    "        \n",
    "        // Print bottom border\n",
    "        printHorizontalBorder();\n",
    "    }\n",
    "    \n",
    "    private void printHorizontalBorder() {\n",
    "        System.out.print(\"=\");\n",
    "        for (int i = 0; i < trackLength + 2; i++) {\n",
    "            System.out.print(\"=\");\n",
    "        }\n",
    "        System.out.println(\"=\");\n",
    "    }\n",
    "\n",
    "    public void displayHorseStatistics() {\n",
    "        for (Horse horse : horses) {\n",
    "            if (horse != null) {\n",
    "                statsManager.displayHorseStatistics(horse, trackLength);\n",
    "            }\n",
    "        }\n",
    "    }\n",
    "}"
   ]
  },
  {
   "cell_type": "code",
   "execution_count": 8,
   "id": "915cba59-ebc9-43bc-8346-3d902631a7a8",
   "metadata": {},
   "outputs": [],
   "source": [
    "import java.util.Scanner;\n",
    "\n",
    "public class Main {\n",
    "    public static void main(String[] args) {\n",
    "        Scanner scanner = new Scanner(System.in);\n",
    "        Race race = null;\n",
    "\n",
    "        while (true) {\n",
    "            System.out.println(\"\\n=== Horse Race Simulator ===\");\n",
    "            System.out.println(\"1. Create Track\");\n",
    "            System.out.println(\"2. Create Horses\");\n",
    "            System.out.println(\"3. Place Bets\");\n",
    "            System.out.println(\"4. Start Race\");\n",
    "            System.out.println(\"5. View Statistics\");\n",
    "            System.out.println(\"6. Exit\");\n",
    "            System.out.print(\"Choose an option: \");\n",
    "            int choice = scanner.nextInt();\n",
    "            scanner.nextLine();\n",
    "\n",
    "            if (choice == 1) {\n",
    "                race = createTrack(scanner);\n",
    "            } else if (choice == 2) {\n",
    "                if (race == null) {\n",
    "                    System.out.println(\"You must create a track first!\");\n",
    "                } else {\n",
    "                    createHorses(scanner, race);\n",
    "                }\n",
    "            } else if (choice == 3) {\n",
    "                if (race != null) {\n",
    "                    placeBets(scanner, race);\n",
    "                } else {\n",
    "                    System.out.println(\"Create a track and horses first!\");\n",
    "                }\n",
    "            } else if (choice == 4) {\n",
    "                if (race != null) {\n",
    "                    race.runRace();\n",
    "                } else {\n",
    "                    System.out.println(\"Create a track and horses first!\");\n",
    "                }\n",
    "            } else if (choice == 5) {\n",
    "                if (race != null) {\n",
    "                    race.displayHorseStatistics();\n",
    "                } else {\n",
    "                    System.out.println(\"No race data yet!\");\n",
    "                }\n",
    "            } else if (choice == 6) {\n",
    "                System.out.println(\"Goodbye!\");\n",
    "                break;\n",
    "            } else {\n",
    "                System.out.println(\"Invalid choice. Try again!\");\n",
    "            }\n",
    "        }\n",
    "        scanner.close();\n",
    "    }\n",
    "\n",
    "    private static Race createTrack(Scanner scanner) {\n",
    "        System.out.print(\"Enter track length: \");\n",
    "        int length = scanner.nextInt();\n",
    "        System.out.print(\"Enter number of lanes: \");\n",
    "        int lanes = scanner.nextInt();\n",
    "        scanner.nextLine();\n",
    "        return new Race(length, lanes);\n",
    "    }\n",
    "\n",
    "    private static void createHorses(Scanner scanner, Race race) {\n",
    "        for (int i = 0; i < race.getNumLanes(); i++) {\n",
    "            System.out.println(\"\\nCreating Horse for Lane \" + (i + 1));\n",
    "\n",
    "            System.out.print(\"Enter horse name: \");\n",
    "            String name = scanner.nextLine();\n",
    "\n",
    "            System.out.print(\"Enter horse breed: \");\n",
    "            String breed = scanner.nextLine();\n",
    "\n",
    "            System.out.print(\"Enter coat color: \");\n",
    "            String color = scanner.nextLine();\n",
    "\n",
    "            System.out.print(\"Enter horse symbol (e.g. 🐎): \");\n",
    "            char symbol = scanner.nextLine().charAt(0);\n",
    "\n",
    "            System.out.print(\"Choose saddle: \");\n",
    "            String saddle = scanner.nextLine();\n",
    "\n",
    "            System.out.print(\"Choose horseshoes (quality affects fall risk): \");\n",
    "            String horseshoes = scanner.nextLine();\n",
    "\n",
    "            System.out.print(\"Choose an accessory: \");\n",
    "            String accessory = scanner.nextLine();\n",
    "\n",
    "            double confidence = 0.7 + Math.random() * 0.3;\n",
    "\n",
    "            Horse horse = new Horse(name, symbol, confidence, breed, color, saddle, horseshoes, accessory);\n",
    "            race.addHorse(horse, i);\n",
    "        }\n",
    "    }\n",
    "\n",
    "    private static void placeBets(Scanner scanner, Race race) {\n",
    "        BettingSystem bettingSystem = race.getBettingSystem();\n",
    "        bettingSystem.calculateOdds(race.getHorses());\n",
    "        bettingSystem.displayOdds();\n",
    "\n",
    "        System.out.print(\"Enter lane number to bet on (1-\" + race.getNumLanes() + \"): \");\n",
    "        int lane = scanner.nextInt() - 1;\n",
    "        System.out.print(\"Enter bet amount: \");\n",
    "        double amount = scanner.nextDouble();\n",
    "        scanner.nextLine();\n",
    "\n",
    "        if (lane >= 0 && lane < race.getHorses().length) {\n",
    "            Horse horse = race.getHorses()[lane];\n",
    "            if (horse != null) {\n",
    "                bettingSystem.placeBet(horse, amount);\n",
    "            } else {\n",
    "                System.out.println(\"No horse in that lane!\");\n",
    "            }\n",
    "        } else {\n",
    "            System.out.println(\"Invalid lane number!\");\n",
    "        }\n",
    "\n",
    "        bettingSystem.displayBalance();\n",
    "    }\n",
    "}"
   ]
  },
  {
   "cell_type": "code",
   "execution_count": 11,
   "id": "e8551de0-b4af-4563-b08b-95df9558e3e0",
   "metadata": {},
   "outputs": [
    {
     "name": "stdout",
     "output_type": "stream",
     "text": [
      "\n",
      "=== Horse Race Simulator ===\n",
      "1. Create Track\n",
      "2. Create Horses\n",
      "3. Place Bets\n",
      "4. Start Race\n",
      "5. View Statistics\n",
      "6. Exit\n",
      "Choose an option: "
     ]
    },
    {
     "name": "stdin",
     "output_type": "stream",
     "text": [
      " 1\n"
     ]
    },
    {
     "name": "stdout",
     "output_type": "stream",
     "text": [
      "Enter track length: "
     ]
    },
    {
     "name": "stdin",
     "output_type": "stream",
     "text": [
      " 10\n"
     ]
    },
    {
     "name": "stdout",
     "output_type": "stream",
     "text": [
      "Enter number of lanes: "
     ]
    },
    {
     "name": "stdin",
     "output_type": "stream",
     "text": [
      " 2\n"
     ]
    },
    {
     "name": "stdout",
     "output_type": "stream",
     "text": [
      "\n",
      "=== Horse Race Simulator ===\n",
      "1. Create Track\n",
      "2. Create Horses\n",
      "3. Place Bets\n",
      "4. Start Race\n",
      "5. View Statistics\n",
      "6. Exit\n",
      "Choose an option: "
     ]
    },
    {
     "name": "stdin",
     "output_type": "stream",
     "text": [
      " 2\n"
     ]
    },
    {
     "name": "stdout",
     "output_type": "stream",
     "text": [
      "\n",
      "Creating Horse for Lane 1\n",
      "Enter horse name: "
     ]
    },
    {
     "name": "stdin",
     "output_type": "stream",
     "text": [
      " q\n"
     ]
    },
    {
     "name": "stdout",
     "output_type": "stream",
     "text": [
      "Enter horse breed: "
     ]
    },
    {
     "name": "stdin",
     "output_type": "stream",
     "text": [
      " q\n"
     ]
    },
    {
     "name": "stdout",
     "output_type": "stream",
     "text": [
      "Enter coat color: "
     ]
    },
    {
     "name": "stdin",
     "output_type": "stream",
     "text": [
      " q\n"
     ]
    },
    {
     "name": "stdout",
     "output_type": "stream",
     "text": [
      "Enter horse symbol (e.g. 🐎): "
     ]
    },
    {
     "name": "stdin",
     "output_type": "stream",
     "text": [
      " q\n"
     ]
    },
    {
     "name": "stdout",
     "output_type": "stream",
     "text": [
      "Choose saddle: "
     ]
    },
    {
     "name": "stdin",
     "output_type": "stream",
     "text": [
      " q\n"
     ]
    },
    {
     "name": "stdout",
     "output_type": "stream",
     "text": [
      "Choose horseshoes (quality affects fall risk): "
     ]
    },
    {
     "name": "stdin",
     "output_type": "stream",
     "text": [
      " q\n"
     ]
    },
    {
     "name": "stdout",
     "output_type": "stream",
     "text": [
      "Choose an accessory: "
     ]
    },
    {
     "name": "stdin",
     "output_type": "stream",
     "text": [
      " q\n"
     ]
    },
    {
     "name": "stdout",
     "output_type": "stream",
     "text": [
      "\n",
      "Creating Horse for Lane 2\n",
      "Enter horse name: "
     ]
    },
    {
     "name": "stdin",
     "output_type": "stream",
     "text": [
      " q\n"
     ]
    },
    {
     "name": "stdout",
     "output_type": "stream",
     "text": [
      "Enter horse breed: "
     ]
    },
    {
     "name": "stdin",
     "output_type": "stream",
     "text": [
      " q\n"
     ]
    },
    {
     "name": "stdout",
     "output_type": "stream",
     "text": [
      "Enter coat color: "
     ]
    },
    {
     "name": "stdin",
     "output_type": "stream",
     "text": [
      " q\n"
     ]
    },
    {
     "name": "stdout",
     "output_type": "stream",
     "text": [
      "Enter horse symbol (e.g. 🐎): "
     ]
    },
    {
     "name": "stdin",
     "output_type": "stream",
     "text": [
      " q\n"
     ]
    },
    {
     "name": "stdout",
     "output_type": "stream",
     "text": [
      "Choose saddle: "
     ]
    },
    {
     "name": "stdin",
     "output_type": "stream",
     "text": [
      " q\n"
     ]
    },
    {
     "name": "stdout",
     "output_type": "stream",
     "text": [
      "Choose horseshoes (quality affects fall risk): "
     ]
    },
    {
     "name": "stdin",
     "output_type": "stream",
     "text": [
      " q\n"
     ]
    },
    {
     "name": "stdout",
     "output_type": "stream",
     "text": [
      "Choose an accessory: "
     ]
    },
    {
     "name": "stdin",
     "output_type": "stream",
     "text": [
      " q\n"
     ]
    },
    {
     "name": "stdout",
     "output_type": "stream",
     "text": [
      "\n",
      "=== Horse Race Simulator ===\n",
      "1. Create Track\n",
      "2. Create Horses\n",
      "3. Place Bets\n",
      "4. Start Race\n",
      "5. View Statistics\n",
      "6. Exit\n",
      "Choose an option: "
     ]
    },
    {
     "name": "stdin",
     "output_type": "stream",
     "text": [
      " 3\n"
     ]
    },
    {
     "name": "stdout",
     "output_type": "stream",
     "text": [
      "\n",
      "--- Betting Odds ---\n",
      "q (q): 3.78x\n",
      "q (q): 3.93x\n",
      "Enter lane number to bet on (1-2): "
     ]
    },
    {
     "name": "stdin",
     "output_type": "stream",
     "text": [
      " 1\n"
     ]
    },
    {
     "name": "stdout",
     "output_type": "stream",
     "text": [
      "Enter bet amount: "
     ]
    },
    {
     "name": "stdin",
     "output_type": "stream",
     "text": [
      " 30\n"
     ]
    },
    {
     "name": "stdout",
     "output_type": "stream",
     "text": [
      "Current Balance: $970.00\n",
      "\n",
      "=== Horse Race Simulator ===\n",
      "1. Create Track\n",
      "2. Create Horses\n",
      "3. Place Bets\n",
      "4. Start Race\n",
      "5. View Statistics\n",
      "6. Exit\n",
      "Choose an option: "
     ]
    },
    {
     "name": "stdin",
     "output_type": "stream",
     "text": [
      " 4\n"
     ]
    },
    {
     "name": "stdout",
     "output_type": "stream",
     "text": [
      "\n",
      "🏁 The race begins!\n",
      "\n",
      "==============\n",
      "|  q         | q (Current confidence 0.8)\n",
      "|  q         | q (Current confidence 0.9)\n",
      "==============\n",
      "\n",
      "==============\n",
      "|   q        | q (Current confidence 0.8)\n",
      "|   q        | q (Current confidence 0.9)\n",
      "==============\n",
      "\n",
      "==============\n",
      "|    q       | q (Current confidence 0.8)\n",
      "|   q        | q (Current confidence 0.9)\n",
      "==============\n",
      "\n",
      "==============\n",
      "|     q      | q (Current confidence 0.8)\n",
      "|   q        | q (Current confidence 0.9)\n",
      "==============\n",
      "\n",
      "==============\n",
      "|     q      | q (Current confidence 0.8)\n",
      "|    q       | q (Current confidence 0.9)\n",
      "==============\n",
      "\n",
      "==============\n",
      "|      q     | q (Current confidence 0.8)\n",
      "|     q      | q (Current confidence 0.9)\n",
      "==============\n",
      "\n",
      "==============\n",
      "|       q    | q (Current confidence 0.8)\n",
      "|      q     | q (Current confidence 0.9)\n",
      "==============\n",
      "\n",
      "==============\n",
      "|        q   | q (Current confidence 0.8)\n",
      "|      q     | q (Current confidence 0.9)\n",
      "==============\n",
      "\n",
      "==============\n",
      "|         q  | q (Current confidence 0.8)\n",
      "|       q    | q (Current confidence 0.9)\n",
      "==============\n",
      "\n",
      "==============\n",
      "|          q | q (Current confidence 0.8)\n",
      "|        q   | q (Current confidence 0.9)\n",
      "==============\n",
      "\n",
      "==============\n",
      "|            | q (Current confidence 0.8)\n",
      "|         q  | q (Current confidence 0.9)\n",
      "==============\n",
      "\n",
      "🏆 q wins the race!\n",
      "You won! You earned: $117.85\n",
      "\n",
      "=== Horse Race Simulator ===\n",
      "1. Create Track\n",
      "2. Create Horses\n",
      "3. Place Bets\n",
      "4. Start Race\n",
      "5. View Statistics\n",
      "6. Exit\n",
      "Choose an option: "
     ]
    },
    {
     "name": "stdin",
     "output_type": "stream",
     "text": [
      " 5\n"
     ]
    },
    {
     "name": "stdout",
     "output_type": "stream",
     "text": [
      "\n",
      "--- Horse Statistics for q ---\n",
      "Total Races: 1\n",
      "Win Ratio: 100.00%\n",
      "Average Speed: 1.79 units per second\n",
      "Race Times: [5.6]\n",
      "\n",
      "--- Horse Statistics for q ---\n",
      "Total Races: 1\n",
      "Win Ratio: 0.00%\n",
      "Average Speed: 1.79 units per second\n",
      "Race Times: [5.6]\n",
      "\n",
      "=== Horse Race Simulator ===\n",
      "1. Create Track\n",
      "2. Create Horses\n",
      "3. Place Bets\n",
      "4. Start Race\n",
      "5. View Statistics\n",
      "6. Exit\n",
      "Choose an option: "
     ]
    },
    {
     "name": "stdin",
     "output_type": "stream",
     "text": [
      " 6\n"
     ]
    },
    {
     "name": "stdout",
     "output_type": "stream",
     "text": [
      "Goodbye!\n"
     ]
    }
   ],
   "source": [
    "Main.main(null)"
   ]
  },
  {
   "cell_type": "code",
   "execution_count": null,
   "id": "c76ab756-910e-415b-8b9d-1d00a5099494",
   "metadata": {},
   "outputs": [],
   "source": []
  }
 ],
 "metadata": {
  "kernelspec": {
   "display_name": "Java",
   "language": "java",
   "name": "java"
  },
  "language_info": {
   "codemirror_mode": "java",
   "file_extension": ".jshell",
   "mimetype": "text/x-java-source",
   "name": "Java",
   "pygments_lexer": "java",
   "version": "11.0.8+10-LTS"
  }
 },
 "nbformat": 4,
 "nbformat_minor": 5
}
